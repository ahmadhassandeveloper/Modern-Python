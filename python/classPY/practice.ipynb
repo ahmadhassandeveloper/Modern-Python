{
 "cells": [
  {
   "cell_type": "code",
   "execution_count": 4,
   "metadata": {},
   "outputs": [
    {
     "name": "stdout",
     "output_type": "stream",
     "text": [
      "DAO is Panaverse or Panacloud?\n",
      "      \n",
      "Answer is Panaverse\n"
     ]
    }
   ],
   "source": [
    "a = \"Panaverse\"\n",
    "b = \"Panacloud\"\n",
    "\n",
    "print(f'''DAO is {a} or {b}?\n",
    "      \n",
    "Answer is Panaverse''')"
   ]
  },
  {
   "cell_type": "code",
   "execution_count": null,
   "metadata": {},
   "outputs": [],
   "source": []
  }
 ],
 "metadata": {
  "kernelspec": {
   "display_name": "base",
   "language": "python",
   "name": "python3"
  },
  "language_info": {
   "codemirror_mode": {
    "name": "ipython",
    "version": 3
   },
   "file_extension": ".py",
   "mimetype": "text/x-python",
   "name": "python",
   "nbconvert_exporter": "python",
   "pygments_lexer": "ipython3",
   "version": "3.11.4"
  }
 },
 "nbformat": 4,
 "nbformat_minor": 2
}
